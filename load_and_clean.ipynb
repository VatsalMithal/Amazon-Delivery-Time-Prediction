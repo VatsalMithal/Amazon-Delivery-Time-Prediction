{
 "cells": [
  {
   "cell_type": "code",
   "execution_count": 1,
   "id": "cf0de4d0",
   "metadata": {},
   "outputs": [],
   "source": [
    "import pandas as pd"
   ]
  },
  {
   "cell_type": "code",
   "execution_count": 5,
   "id": "b822950d",
   "metadata": {},
   "outputs": [],
   "source": [
    "data = pd.read_csv('../data/amazon_delivery.csv')  # Use a relative path if the file is in the 'data' folder within the project directory"
   ]
  },
  {
   "cell_type": "code",
   "execution_count": 6,
   "id": "b4b97d3c",
   "metadata": {},
   "outputs": [
    {
     "name": "stdout",
     "output_type": "stream",
     "text": [
      "Original Data:\n",
      "        Order_ID  Agent_Age  Agent_Rating  Store_Latitude  Store_Longitude  \\\n",
      "0  ialx566343618         37           4.9       22.745049        75.892471   \n",
      "1  akqg208421122         34           4.5       12.913041        77.683237   \n",
      "2  njpu434582536         23           4.4       12.914264        77.678400   \n",
      "3  rjto796129700         38           4.7       11.003669        76.976494   \n",
      "4  zguw716275638         32           4.6       12.972793        80.249982   \n",
      "\n",
      "   Drop_Latitude  Drop_Longitude  Order_Date Order_Time Pickup_Time  \\\n",
      "0      22.765049       75.912471  2022-03-19   11:30:00    11:45:00   \n",
      "1      13.043041       77.813237  2022-03-25   19:45:00    19:50:00   \n",
      "2      12.924264       77.688400  2022-03-19   08:30:00    08:45:00   \n",
      "3      11.053669       77.026494  2022-04-05   18:00:00    18:10:00   \n",
      "4      13.012793       80.289982  2022-03-26   13:30:00    13:45:00   \n",
      "\n",
      "      Weather  Traffic      Vehicle            Area  Delivery_Time  \\\n",
      "0       Sunny    High   motorcycle           Urban             120   \n",
      "1      Stormy     Jam      scooter   Metropolitian             165   \n",
      "2  Sandstorms     Low   motorcycle           Urban             130   \n",
      "3       Sunny  Medium   motorcycle   Metropolitian             105   \n",
      "4      Cloudy    High      scooter   Metropolitian             150   \n",
      "\n",
      "      Category  \n",
      "0     Clothing  \n",
      "1  Electronics  \n",
      "2       Sports  \n",
      "3    Cosmetics  \n",
      "4         Toys  \n"
     ]
    }
   ],
   "source": [
    "print(\"Original Data:\")\n",
    "print(data.head())"
   ]
  },
  {
   "cell_type": "code",
   "execution_count": 7,
   "id": "02c666ea",
   "metadata": {},
   "outputs": [],
   "source": [
    "data_cleaned = data.dropna().drop_duplicates()"
   ]
  },
  {
   "cell_type": "code",
   "execution_count": 8,
   "id": "70acbf57",
   "metadata": {},
   "outputs": [],
   "source": [
    "data_cleaned.to_csv('../data/cleaned_data.csv', index=False)"
   ]
  },
  {
   "cell_type": "code",
   "execution_count": 9,
   "id": "1fc4800a",
   "metadata": {},
   "outputs": [
    {
     "name": "stdout",
     "output_type": "stream",
     "text": [
      "\n",
      "Cleaned data saved as 'cleaned_data.csv'\n"
     ]
    }
   ],
   "source": [
    "print(\"\\nCleaned data saved as 'cleaned_data.csv'\")"
   ]
  },
  {
   "cell_type": "code",
   "execution_count": null,
   "id": "2c3b5475",
   "metadata": {},
   "outputs": [],
   "source": []
  }
 ],
 "metadata": {
  "kernelspec": {
   "display_name": "base",
   "language": "python",
   "name": "python3"
  },
  "language_info": {
   "codemirror_mode": {
    "name": "ipython",
    "version": 3
   },
   "file_extension": ".py",
   "mimetype": "text/x-python",
   "name": "python",
   "nbconvert_exporter": "python",
   "pygments_lexer": "ipython3",
   "version": "3.12.7"
  }
 },
 "nbformat": 4,
 "nbformat_minor": 5
}
