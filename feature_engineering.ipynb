{
 "cells": [
  {
   "cell_type": "code",
   "execution_count": 1,
   "id": "d4903444",
   "metadata": {},
   "outputs": [],
   "source": [
    "import pandas as pd\n",
    "from geopy.distance import geodesic"
   ]
  },
  {
   "cell_type": "code",
   "execution_count": 2,
   "id": "023fb13b",
   "metadata": {},
   "outputs": [],
   "source": [
    "# Step 1: Load the cleaned data\n",
    "df = pd.read_csv('D://Amazon Delivery Project/data/cleaned_data.csv')"
   ]
  },
  {
   "cell_type": "code",
   "execution_count": null,
   "id": "e38ec1a9",
   "metadata": {},
   "outputs": [],
   "source": [
    "# Step 2: Calculate distance between store and drop location\n",
    "def calculate_distance(row):\n",
    "    start = (row['Store_Latitude'], row['Store_Longitude'])\n",
    "    end = (row['Drop_Latitude'], row['Drop_Longitude'])\n",
    "    return geodesic(start, end).km"
   ]
  },
  {
   "cell_type": "code",
   "execution_count": 4,
   "id": "52c3dbd8",
   "metadata": {},
   "outputs": [],
   "source": [
    "df['Distance_km'] = df.apply(calculate_distance, axis=1)"
   ]
  },
  {
   "cell_type": "code",
   "execution_count": 6,
   "metadata": {},
   "outputs": [],
   "source": [
    "# Step 3: Extract hour from Order_Time\n",
    "df['Order_Hour'] = pd.to_datetime(df['Order_Time'], format='%H:%M:%S', errors='coerce').dt.hour\n",
    "\n",
    "# Check if there are any conversion errors\n",
    "if df['Order_Hour'].isnull().any():\n",
    "    print(\"⚠️ Warning: Some 'Order_Time' values could not be converted. They have been set as NaN.\")"
   ]
  },
  {
   "cell_type": "code",
   "execution_count": 7,
   "metadata": {},
   "outputs": [],
   "source": [
    "# Step 4: Extract day of the week from Order_Date\n",
    "df['Order_Day'] = pd.to_datetime(df['Order_Date']).dt.dayofweek"
   ]
  },
  {
   "cell_type": "code",
   "execution_count": 8,
   "metadata": {},
   "outputs": [
    {
     "name": "stdout",
     "output_type": "stream",
     "text": [
      "✅ Feature engineering complete. Saved as 'final_data.csv'\n"
     ]
    }
   ],
   "source": [
    "# Step 5: Save the final data with features\n",
    "df.to_csv('../data/final_data.csv', index=False)\n",
    "print(\"✅ Feature engineering complete. Saved as 'final_data.csv'\")\n"
   ]
  },
  {
   "cell_type": "code",
   "execution_count": null,
   "metadata": {},
   "outputs": [],
   "source": []
  },
  {
   "cell_type": "code",
   "execution_count": null,
   "id": "79519b47",
   "metadata": {},
   "outputs": [],
   "source": []
  },
  {
   "cell_type": "code",
   "execution_count": null,
   "metadata": {},
   "outputs": [],
   "source": []
  },
  {
   "cell_type": "code",
   "execution_count": null,
   "id": "f950a88e",
   "metadata": {},
   "outputs": [],
   "source": []
  },
  {
   "cell_type": "code",
   "execution_count": null,
   "id": "9571f63c",
   "metadata": {},
   "outputs": [],
   "source": []
  },
  {
   "cell_type": "code",
   "execution_count": null,
   "id": "be74c97e",
   "metadata": {},
   "outputs": [],
   "source": []
  },
  {
   "cell_type": "code",
   "execution_count": null,
   "metadata": {},
   "outputs": [],
   "source": []
  },
  {
   "cell_type": "code",
   "execution_count": null,
   "id": "4919ce1f",
   "metadata": {},
   "outputs": [],
   "source": []
  },
  {
   "cell_type": "code",
   "execution_count": null,
   "id": "178c6ede",
   "metadata": {},
   "outputs": [],
   "source": []
  },
  {
   "cell_type": "code",
   "execution_count": null,
   "metadata": {},
   "outputs": [],
   "source": []
  }
 ],
 "metadata": {
  "kernelspec": {
   "display_name": "base",
   "language": "python",
   "name": "python3"
  },
  "language_info": {
   "codemirror_mode": {
    "name": "ipython",
    "version": 3
   },
   "file_extension": ".py",
   "mimetype": "text/x-python",
   "name": "python",
   "nbconvert_exporter": "python",
   "pygments_lexer": "ipython3",
   "version": "3.12.7"
  }
 },
 "nbformat": 4,
 "nbformat_minor": 5
}
