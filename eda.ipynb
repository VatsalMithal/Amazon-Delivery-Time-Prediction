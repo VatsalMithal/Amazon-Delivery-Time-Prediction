{
 "cells": [
  {
   "cell_type": "code",
   "execution_count": 7,
   "id": "e36ae671",
   "metadata": {},
   "outputs": [],
   "source": [
    "import pandas as pd\n",
    "import matplotlib.pyplot as plt\n",
    "import seaborn as sns\n",
    "\n",
    "# Load final data\n",
    "df = pd.read_csv('../data/final_data.csv')"
   ]
  },
  {
   "cell_type": "code",
   "execution_count": 8,
   "id": "2712ed47",
   "metadata": {},
   "outputs": [],
   "source": [
    "sns.set(style='whitegrid')"
   ]
  },
  {
   "cell_type": "code",
   "execution_count": 9,
   "metadata": {},
   "outputs": [],
   "source": [
    "# 1. Plot distribution of Delivery Time\n",
    "plt.figure(figsize=(6,4))\n",
    "sns.histplot(df['Delivery_Time'], kde=True)\n",
    "plt.title('Delivery Time Distribution')\n",
    "plt.xlabel('Delivery Time (hours)')\n",
    "plt.ylabel('Frequency')\n",
    "plt.savefig('../visuals/delivery_time_distribution.png')\n",
    "plt.close()"
   ]
  },
  {
   "cell_type": "code",
   "execution_count": 11,
   "metadata": {},
   "outputs": [],
   "source": [
    "plt.figure(figsize=(6,4))\n",
    "sns.scatterplot(x='Distance_km', y='Delivery_Time', data=df)\n",
    "plt.title('Delivery Time vs Distance')\n",
    "plt.xlabel('Distance (km)')\n",
    "plt.ylabel('Delivery Time (hours)')\n",
    "plt.savefig('../visuals/delivery_time_vs_distance.png')\n",
    "plt.close()"
   ]
  },
  {
   "cell_type": "code",
   "execution_count": 12,
   "metadata": {},
   "outputs": [
    {
     "name": "stdout",
     "output_type": "stream",
     "text": [
      "✅ EDA plots saved in the 'visuals' folder.\n"
     ]
    }
   ],
   "source": [
    "plt.figure(figsize=(6,4))\n",
    "sns.boxplot(x='Weather', y='Delivery_Time', data=df)\n",
    "plt.title('Delivery Time by Weather')\n",
    "plt.xticks(rotation=45)\n",
    "plt.savefig('../visuals/delivery_time_by_weather.png')\n",
    "plt.close()\n",
    "\n",
    "print(\"✅ EDA plots saved in the 'visuals' folder.\")"
   ]
  }
 ],
 "metadata": {
  "kernelspec": {
   "display_name": "base",
   "language": "python",
   "name": "python3"
  },
  "language_info": {
   "codemirror_mode": {
    "name": "ipython",
    "version": 3
   },
   "file_extension": ".py",
   "mimetype": "text/x-python",
   "name": "python",
   "nbconvert_exporter": "python",
   "pygments_lexer": "ipython3",
   "version": "3.12.7"
  }
 },
 "nbformat": 4,
 "nbformat_minor": 5
}
